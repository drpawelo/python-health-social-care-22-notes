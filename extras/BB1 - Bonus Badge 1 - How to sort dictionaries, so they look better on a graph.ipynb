{
 "cells": [
  {
   "cell_type": "markdown",
   "id": "7d551e08",
   "metadata": {},
   "source": [
    "# How to sort dictionaries?"
   ]
  },
  {
   "cell_type": "code",
   "execution_count": null,
   "id": "53f9ee4a",
   "metadata": {},
   "outputs": [],
   "source": [
    "import pprint as pp"
   ]
  },
  {
   "cell_type": "markdown",
   "id": "cd36af5b",
   "metadata": {},
   "source": [
    "Sometimes it would be nice to sort Dictionaries. When? Usually when we want to show a graph, or print some data. Imagine we just counted fruits in our basket and now we want to print the results. They will look a bit wrong, because they are not in order - neither alphabetically by key, nor by value. It looks messy."
   ]
  },
  {
   "cell_type": "code",
   "execution_count": null,
   "id": "ecbdf4a5",
   "metadata": {},
   "outputs": [],
   "source": [
    "fruit_counts = {\"banana\": 3,\"kiwi\" : 10,\"apple\": 1,\"potato\": 4}\n",
    "for (fruit, value) in fruit_counts.items():\n",
    "    print(f\"We have {value:>2} {fruit}s\")"
   ]
  },
  {
   "cell_type": "markdown",
   "id": "b82eaf16",
   "metadata": {},
   "source": [
    "The same would happen if you tried to show these eg. as a bar chart.\n",
    "\n",
    "In the next few cells you will see how we can sort dictionaries, for the purposes of displaying them in a nicer way."
   ]
  },
  {
   "cell_type": "markdown",
   "id": "c2de73c6",
   "metadata": {},
   "source": [
    "One of the main differences between lists and dictionaries is how we refer to their contents (index vs key):\n",
    "\n",
    "- in Lists it's all about order - we refer to contents of a list with their 'index', which is basically a number describing which in the order of items they are (eg. thing at index 0 is first, thing at index 1 is second, etc),\n",
    "- in Dictionaries is all about giving items meaningful names (keys) - we refer to contents of the dictionary with their 'keys', which are desccribing/refering to. (eg. key 'name' will point us to what value is stored under the key 'name')"
   ]
  },
  {
   "cell_type": "code",
   "execution_count": null,
   "id": "e4e9e255",
   "metadata": {},
   "outputs": [],
   "source": [
    "# unfortunately we cannot sort dictionaries with .sort... because Dictionary does not have .sort() method \n",
    "fruit_counts = {\"banana\": 3,\"kiwi\" : 10,\"apple\": 1,\"potato\": 4}\n",
    "result = fruit_counts.sort(sort_by_value)\n",
    "\n",
    "# AttributeError: 'dict' object has no attribute 'sort'"
   ]
  },
  {
   "cell_type": "code",
   "execution_count": null,
   "id": "181a9ddf",
   "metadata": {},
   "outputs": [],
   "source": [
    "# but we can use a more 'forgiving' and universal version sorted( something ) which will at least try.\n",
    "# notice it returns it's result, unlike .sort()\n",
    "fruit_counts = {\"banana\": 3,\"kiwi\" : 10,\"apple\": 1,\"potato\": 4}\n",
    "result = sorted(fruit_counts)\n",
    "print(result)\n",
    "\n",
    "# but also: it does not actually sort the Dict... instead it sorts the keys, while forgetting values. not useful."
   ]
  },
  {
   "cell_type": "code",
   "execution_count": null,
   "id": "25fda35b",
   "metadata": {},
   "outputs": [],
   "source": [
    "# let's instead try something a bit weird. What if a dictionary was a list of pairs [some_key, some_value]\n",
    "# maybe this would helps? after all, sorting loves lists!\n",
    "fruit_counts = [[\"banana\", 3], \n",
    "                [\"kiwi\", 10],\n",
    "                [\"apple\", 1],\n",
    "                [\"potato\", 4]]\n",
    "result = sorted(fruit_counts)\n",
    "print(result)\n",
    "# oh! amazing! it sorted the keys alphabetically!"
   ]
  },
  {
   "cell_type": "code",
   "execution_count": null,
   "id": "472fe313",
   "metadata": {},
   "outputs": [],
   "source": [
    "# ok, so now we need a way to tuen a dict into a list of key-value pairs, and back\n",
    "fruit_counts = {\"banana\": 3,\"kiwi\" : 10,\"apple\": 1,\"potato\": 4}\n",
    "\n",
    "# some_dict.items() will turn dict into list of key-value pairs\n",
    "value_pairs = fruit_counts.items()\n",
    "print(value_pairs)\n",
    "\n",
    "# casting a list of key value pairs with dict(the_list) will turn it back into a dict\n",
    "back_to_dict = dict(value_pairs)\n",
    "print(back_to_dict)"
   ]
  },
  {
   "cell_type": "code",
   "execution_count": null,
   "id": "2ff23238",
   "metadata": {},
   "outputs": [],
   "source": [
    "#let's combine it together. take a dict and sort it by keys\n",
    "\n",
    "fruit_counts = {\"banana\": 3,\"kiwi\" : 10,\"apple\": 1,\"potato\": 4}\n",
    "pairs = fruit_counts.items()\n",
    "sorted_pairs = sorted(pairs)\n",
    "fruits_counts_sorted = dict(sorted_pairs)\n",
    "print(fruits_counts_sorted)"
   ]
  },
  {
   "cell_type": "code",
   "execution_count": null,
   "id": "e3a4bd7e",
   "metadata": {},
   "outputs": [],
   "source": [
    "# or in one spaghetti line:\n",
    "\n",
    "fruit_counts = {\"banana\": 3,\"kiwi\" : 10,\"apple\": 1,\"potato\": 4}\n",
    "fruits_counts_sorted = dict(sorted(fruit_counts.items()))\n",
    "print(fruits_counts_sorted)"
   ]
  },
  {
   "cell_type": "code",
   "execution_count": null,
   "id": "f18f5008",
   "metadata": {},
   "outputs": [],
   "source": [
    "# or reversed:\n",
    "\n",
    "fruit_counts = {\"banana\": 3,\"kiwi\" : 10,\"apple\": 1,\"potato\": 4}\n",
    "fruits_counts_sorted = dict(sorted(fruit_counts.items(), reverse=True))\n",
    "print(fruits_counts_sorted)"
   ]
  },
  {
   "cell_type": "code",
   "execution_count": null,
   "id": "d64ff2ee",
   "metadata": {},
   "outputs": [],
   "source": [
    "# but how to sort it by values, not keys? for that we will use sorted's ability to take a 'key' \n",
    "# as in: by what key/attribute should it sort items. \n",
    "\n",
    "# Let's create a function that takes an item (key_value_pair), and returns just the value\n",
    "# this way sorting will happen by value\n",
    "def value_for_sorting(key_value_pair):\n",
    "    sorting_by_this_value = key_value_pair[1]  # first item [0] is a key, second item [1] is a value \n",
    "    return sorting_by_this_value \n",
    "\n",
    "fruit_counts = {\"banana\": 3,\"kiwi\" : 10,\"apple\": 1,\"potato\": 4}\n",
    "fruits_counts_sorted = dict(sorted(fruit_counts.items(), key = value_for_sorting))\n",
    "print(fruits_counts_sorted)"
   ]
  },
  {
   "cell_type": "code",
   "execution_count": null,
   "id": "e3078297",
   "metadata": {},
   "outputs": [],
   "source": [
    "# Indeed you could sort lists of any complicated file formats (not just key-value pairs)\n",
    "# For example, to sort a list of dicts with city data by population:\n",
    "\n",
    "cities = [{'Name': 'Birmingham', 'Population': 1137100, 'Year_Founded': 601},\n",
    "          {'Name': 'Leeds',      'Population': 789194,  'Year_Founded': 1893},\n",
    "          {'Name': 'Sheffield',  'Population': 577800,  'Year_Founded': 701}]\n",
    "\n",
    "def get_population(city):\n",
    "    return city['Population'] \n",
    "\n",
    "cities_ordered_by_polulation = sorted(cities, key = get_population)\n",
    "pp.pprint(cities_ordered_by_polulation)"
   ]
  },
  {
   "cell_type": "code",
   "execution_count": null,
   "id": "c3e6ce37",
   "metadata": {},
   "outputs": [],
   "source": [
    "# final note: Lambda functions\n",
    "# if feels a bit wasteful to create a function which does something so simple \n",
    "# (just gets you one value ('population') from a dict )\n",
    "\n",
    "# in python there is a simplified syntaxt for specifying 'quick functions', also called 'lambda functions'\n",
    "\n",
    "#instead of saying \n",
    "\n",
    "def get_population(city):\n",
    "    return city['Population'] \n",
    "\n",
    "# you can separate function into the input and output: city is an input, city['Population'] is an output\n",
    "# syntax is        lambda input:output\n",
    "\n",
    "simpler_get_population = lambda city: city['Population'] \n",
    "\n",
    "simpler_get_population(cities[0])"
   ]
  },
  {
   "cell_type": "code",
   "execution_count": null,
   "id": "dfacba98",
   "metadata": {},
   "outputs": [],
   "source": [
    "# returning to our city sorting example\n",
    "# Indeed you could sort lists of any complicated file formats (not just key-value pairs)\n",
    "# For example, to sort a list of dicts with city data by population:\n",
    "\n",
    "cities = [{'Name': 'Birmingham', 'Population': 1137100, 'Year_Founded': 601},\n",
    "          {'Name': 'Leeds',      'Population': 789194,  'Year_Founded': 1893},\n",
    "          {'Name': 'Sheffield',  'Population': 577800,  'Year_Founded': 701}]\n",
    "\n",
    "# notice we do not even bother putting lambda in a variable, we just use it straight away!\n",
    "cities_ordered_by_polulation = sorted(cities, key = lambda city: city['Population'] )\n",
    "pp.pprint(cities_ordered_by_polulation)"
   ]
  },
  {
   "cell_type": "markdown",
   "id": "26cbd243",
   "metadata": {},
   "source": [
    "To come back to our original problem:"
   ]
  },
  {
   "cell_type": "code",
   "execution_count": null,
   "id": "b034692c",
   "metadata": {},
   "outputs": [],
   "source": [
    "fruit_counts = {\"banana\": 3,\"kiwi\" : 10,\"apple\": 1,\"potato\": 4}\n",
    "fruit_counts = dict(sorted(fruit_counts.items(), key = lambda pair: pair[1] ))\n",
    "for (fruit, value) in fruit_counts.items():\n",
    "    print(f\"We have {value:>2} {fruit}s\")"
   ]
  },
  {
   "cell_type": "code",
   "execution_count": null,
   "id": "ff36e6cc",
   "metadata": {},
   "outputs": [],
   "source": []
  },
  {
   "cell_type": "code",
   "execution_count": null,
   "id": "5e2a21e3",
   "metadata": {},
   "outputs": [],
   "source": []
  }
 ],
 "metadata": {
  "kernelspec": {
   "display_name": "Python 3 (ipykernel)",
   "language": "python",
   "name": "python3"
  },
  "language_info": {
   "codemirror_mode": {
    "name": "ipython",
    "version": 3
   },
   "file_extension": ".py",
   "mimetype": "text/x-python",
   "name": "python",
   "nbconvert_exporter": "python",
   "pygments_lexer": "ipython3",
   "version": "3.9.7"
  }
 },
 "nbformat": 4,
 "nbformat_minor": 5
}
