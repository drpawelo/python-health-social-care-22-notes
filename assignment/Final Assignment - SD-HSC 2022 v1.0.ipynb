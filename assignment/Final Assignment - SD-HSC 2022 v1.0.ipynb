{
 "cells": [
  {
   "cell_type": "markdown",
   "metadata": {},
   "source": [
    "# Final Assignment\n",
    "\n",
    "Final assignment for Introduction to software development in health and social care (2021-2022) works the same way as your draft assignment. You are asked to write **TWO SEPARATE MINI-REPORTS**, each accompanied by code and a visualisation.\n",
    "\n",
    "In Learn you will accurate and up to date details about:\n",
    "\n",
    "- submission deadlines\n",
    "- marking criteria\n",
    "- where and in what format to submit\n",
    "- more info about the three components of each minireport (code, visualisation, written mini-report)\n",
    "\n",
    "One way to think abotu the reports is: Imagine you are an NHS junior data analyst and you are responding by email to a journalist. Try to explain things they might not know. Focus on what they might find interesting in your writeup. Make your visualisation understandable and well signposted.\n",
    "\n",
    "Important bits:\n",
    "\n",
    "- remember you need to submit two independent mini-reports (each consisting of: code, visualisation & written report)\n",
    "- do not share your code for this assignment on Learn - this is an individual university assignment, and normal rules of 'own work' and plagiarisn apply.\n",
    "- signpost your work with headers (ex. \"report 1 code\", \"report 1 visualisation\", \"report 2 code\" etc)\n",
    "- do your work in this notebook, details of submission will be in learn\n",
    "- written part of mini-reports will be short, about 2 paragraphs of text (200 words +/- 10%) explaining what you saw in the data, what question you identified, and how you answered it with code."
   ]
  },
  {
   "cell_type": "markdown",
   "metadata": {},
   "source": [
    "### Data you are given two datasets describing boards (areas) of NHS Scotland:\n",
    "\n",
    "- Covid across the boards\n",
    "- NHS boards in Scotland information\n",
    "\n",
    "As last time, your task is "
   ]
  },
  {
   "cell_type": "markdown",
   "metadata": {},
   "source": [
    "### Starting code"
   ]
  },
  {
   "cell_type": "code",
   "execution_count": null,
   "metadata": {},
   "outputs": [],
   "source": [
    "# the usual imports\n",
    "from plotly.subplots import make_subplots\n",
    "import plotly.graph_objects as go"
   ]
  },
  {
   "cell_type": "code",
   "execution_count": null,
   "metadata": {},
   "outputs": [],
   "source": [
    "import pprint as pp\n",
    "from datetime import datetime, timedelta, date, timezone\n",
    "import json"
   ]
  },
  {
   "cell_type": "code",
   "execution_count": null,
   "metadata": {},
   "outputs": [],
   "source": [
    "# this function just loads the data from files, there is no need to understand how it does it.\n",
    "def load_json_file_named(file_name):\n",
    "    try: \n",
    "        loaded_data = []\n",
    "        file_location = f\"data/{file_name}\"\n",
    "        with open(file_location, 'r') as file: # or f\"data/{file_name}\" depending on your files\n",
    "            loaded_data =  json.load(file)\n",
    "    except OSError as e:\n",
    "        print(f\"Error. Does the file exist in this folder? {file_location}\\n\\n {e}\")\n",
    "    return loaded_data\n",
    "\n",
    "boards_info = load_json_file_named('nhs_scotland_boards.json')\n",
    "covid_days = load_json_file_named('covid_records_scotland.json')\n"
   ]
  },
  {
   "cell_type": "code",
   "execution_count": null,
   "metadata": {},
   "outputs": [],
   "source": [
    "print(f\"Boards: {len(boards_info)}\")\n",
    "print(f\"Covid days info: {len(covid_days)}\")\n"
   ]
  },
  {
   "cell_type": "markdown",
   "metadata": {},
   "source": [
    "### End of starting code!"
   ]
  },
  {
   "cell_type": "markdown",
   "metadata": {},
   "source": [
    "# Report 1: "
   ]
  },
  {
   "cell_type": "markdown",
   "metadata": {},
   "source": [
    "## Your Code:"
   ]
  },
  {
   "cell_type": "code",
   "execution_count": null,
   "metadata": {},
   "outputs": [],
   "source": []
  },
  {
   "cell_type": "code",
   "execution_count": null,
   "metadata": {},
   "outputs": [],
   "source": []
  },
  {
   "cell_type": "code",
   "execution_count": null,
   "metadata": {},
   "outputs": [],
   "source": []
  },
  {
   "cell_type": "markdown",
   "metadata": {},
   "source": [
    "## Visualisation:"
   ]
  },
  {
   "cell_type": "code",
   "execution_count": null,
   "metadata": {},
   "outputs": [],
   "source": []
  },
  {
   "cell_type": "code",
   "execution_count": null,
   "metadata": {},
   "outputs": [],
   "source": []
  },
  {
   "cell_type": "markdown",
   "metadata": {},
   "source": [
    "## Your mini-report:"
   ]
  },
  {
   "cell_type": "markdown",
   "metadata": {},
   "source": [
    "report here"
   ]
  },
  {
   "cell_type": "markdown",
   "metadata": {},
   "source": [
    "# Report 2: "
   ]
  },
  {
   "cell_type": "markdown",
   "metadata": {},
   "source": [
    "## Your Code:"
   ]
  },
  {
   "cell_type": "code",
   "execution_count": null,
   "metadata": {},
   "outputs": [],
   "source": []
  },
  {
   "cell_type": "code",
   "execution_count": null,
   "metadata": {},
   "outputs": [],
   "source": []
  },
  {
   "cell_type": "code",
   "execution_count": null,
   "metadata": {},
   "outputs": [],
   "source": []
  },
  {
   "cell_type": "markdown",
   "metadata": {},
   "source": [
    "## Visualisation:"
   ]
  },
  {
   "cell_type": "code",
   "execution_count": null,
   "metadata": {},
   "outputs": [],
   "source": []
  },
  {
   "cell_type": "code",
   "execution_count": null,
   "metadata": {},
   "outputs": [],
   "source": []
  },
  {
   "cell_type": "markdown",
   "metadata": {},
   "source": [
    "## Your mini-report:"
   ]
  },
  {
   "cell_type": "markdown",
   "metadata": {},
   "source": [
    "report here"
   ]
  }
 ],
 "metadata": {
  "kernelspec": {
   "display_name": "Python 3 (ipykernel)",
   "language": "python",
   "name": "python3"
  },
  "language_info": {
   "codemirror_mode": {
    "name": "ipython",
    "version": 3
   },
   "file_extension": ".py",
   "mimetype": "text/x-python",
   "name": "python",
   "nbconvert_exporter": "python",
   "pygments_lexer": "ipython3",
   "version": "3.9.7"
  }
 },
 "nbformat": 4,
 "nbformat_minor": 2
}
